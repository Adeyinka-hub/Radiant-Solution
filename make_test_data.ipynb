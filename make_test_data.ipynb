{
 "cells": [
  {
   "cell_type": "code",
   "execution_count": 1,
   "metadata": {},
   "outputs": [],
   "source": [
    "import os\n",
    "from osgeo import gdal\n",
    "import numpy as np\n",
    "import pandas as pd\n",
    "import matplotlib.pyplot as plt\n",
    "from tqdm import tqdm"
   ]
  },
  {
   "cell_type": "code",
   "execution_count": null,
   "metadata": {},
   "outputs": [],
   "source": [
    "!ls"
   ]
  },
  {
   "cell_type": "code",
   "execution_count": 3,
   "metadata": {},
   "outputs": [],
   "source": [
    "images_path = 'v1_test_source_s2/'\n",
    "labels_path = 'v1_test_labels/'\n",
    "\n",
    "images_files = os.listdir('v1_test_source_s2/')\n",
    "labels_files = os.listdir('v1_test_labels/')"
   ]
  },
  {
   "cell_type": "code",
   "execution_count": 4,
   "metadata": {},
   "outputs": [
    {
     "name": "stderr",
     "output_type": "stream",
     "text": [
      " 81%|███████████████████████████▌      | 49948/61726 [00:02<00:00, 23742.30it/s]"
     ]
    },
    {
     "name": "stdout",
     "output_type": "stream",
     "text": [
      "collection.json\n"
     ]
    },
    {
     "name": "stderr",
     "output_type": "stream",
     "text": [
      "100%|██████████████████████████████████| 61726/61726 [00:02<00:00, 23398.85it/s]\n",
      "100%|██████████████████████████████████| 1138/1138 [00:00<00:00, 1260395.55it/s]"
     ]
    },
    {
     "name": "stdout",
     "output_type": "stream",
     "text": [
      ".DS_Store\n"
     ]
    },
    {
     "name": "stderr",
     "output_type": "stream",
     "text": [
      "\n"
     ]
    }
   ],
   "source": [
    "images_files_info = []\n",
    "\n",
    "for file in tqdm(images_files):\n",
    "    if file[:3] == 'ref':\n",
    "        images_files_info.append([images_path+file+'/', file[53:57], \n",
    "                                  pd.to_datetime(file[-10:-6] + '.' + file[-5:-3] + '.' + file[-2:])])\n",
    "    else:\n",
    "        print(file)\n",
    "\n",
    "train_images = pd.DataFrame(images_files_info, columns=['path', 'id', 'date'])\n",
    "\n",
    "labels_files_info = []\n",
    "\n",
    "for file in tqdm(labels_files):\n",
    "    if file[:3] == 'ref':\n",
    "        labels_files_info.append([labels_path+file+'/', file[-4:]])\n",
    "    else:\n",
    "        print(file)\n",
    "\n",
    "train_labels = pd.DataFrame(labels_files_info, columns=['path', 'id'])"
   ]
  },
  {
   "cell_type": "code",
   "execution_count": 5,
   "metadata": {},
   "outputs": [],
   "source": [
    "train_images.id = train_images.id.astype(int)\n",
    "train_labels.id = train_labels.id.astype(int)"
   ]
  },
  {
   "cell_type": "code",
   "execution_count": 6,
   "metadata": {},
   "outputs": [
    {
     "data": {
      "text/plain": [
       "(61725, 3)"
      ]
     },
     "execution_count": 6,
     "metadata": {},
     "output_type": "execute_result"
    }
   ],
   "source": [
    "train_images.shape"
   ]
  },
  {
   "cell_type": "code",
   "execution_count": 7,
   "metadata": {},
   "outputs": [
    {
     "data": {
      "text/html": [
       "<div>\n",
       "<style scoped>\n",
       "    .dataframe tbody tr th:only-of-type {\n",
       "        vertical-align: middle;\n",
       "    }\n",
       "\n",
       "    .dataframe tbody tr th {\n",
       "        vertical-align: top;\n",
       "    }\n",
       "\n",
       "    .dataframe thead th {\n",
       "        text-align: right;\n",
       "    }\n",
       "</style>\n",
       "<table border=\"1\" class=\"dataframe\">\n",
       "  <thead>\n",
       "    <tr style=\"text-align: right;\">\n",
       "      <th></th>\n",
       "      <th>date</th>\n",
       "    </tr>\n",
       "    <tr>\n",
       "      <th>path</th>\n",
       "      <th></th>\n",
       "    </tr>\n",
       "  </thead>\n",
       "  <tbody>\n",
       "    <tr>\n",
       "      <th>38</th>\n",
       "      <td>636</td>\n",
       "    </tr>\n",
       "    <tr>\n",
       "      <th>39</th>\n",
       "      <td>2</td>\n",
       "    </tr>\n",
       "    <tr>\n",
       "      <th>40</th>\n",
       "      <td>3</td>\n",
       "    </tr>\n",
       "    <tr>\n",
       "      <th>47</th>\n",
       "      <td>4</td>\n",
       "    </tr>\n",
       "    <tr>\n",
       "      <th>49</th>\n",
       "      <td>2</td>\n",
       "    </tr>\n",
       "    <tr>\n",
       "      <th>51</th>\n",
       "      <td>1</td>\n",
       "    </tr>\n",
       "    <tr>\n",
       "      <th>52</th>\n",
       "      <td>1</td>\n",
       "    </tr>\n",
       "    <tr>\n",
       "      <th>54</th>\n",
       "      <td>1</td>\n",
       "    </tr>\n",
       "    <tr>\n",
       "      <th>56</th>\n",
       "      <td>2</td>\n",
       "    </tr>\n",
       "    <tr>\n",
       "      <th>62</th>\n",
       "      <td>1</td>\n",
       "    </tr>\n",
       "    <tr>\n",
       "      <th>66</th>\n",
       "      <td>1</td>\n",
       "    </tr>\n",
       "    <tr>\n",
       "      <th>67</th>\n",
       "      <td>1</td>\n",
       "    </tr>\n",
       "    <tr>\n",
       "      <th>68</th>\n",
       "      <td>2</td>\n",
       "    </tr>\n",
       "    <tr>\n",
       "      <th>70</th>\n",
       "      <td>1</td>\n",
       "    </tr>\n",
       "    <tr>\n",
       "      <th>75</th>\n",
       "      <td>1</td>\n",
       "    </tr>\n",
       "    <tr>\n",
       "      <th>76</th>\n",
       "      <td>478</td>\n",
       "    </tr>\n",
       "  </tbody>\n",
       "</table>\n",
       "</div>"
      ],
      "text/plain": [
       "      date\n",
       "path      \n",
       "38     636\n",
       "39       2\n",
       "40       3\n",
       "47       4\n",
       "49       2\n",
       "51       1\n",
       "52       1\n",
       "54       1\n",
       "56       2\n",
       "62       1\n",
       "66       1\n",
       "67       1\n",
       "68       2\n",
       "70       1\n",
       "75       1\n",
       "76     478"
      ]
     },
     "execution_count": 7,
     "metadata": {},
     "output_type": "execute_result"
    }
   ],
   "source": [
    "train_images.groupby('id').count().groupby('path').count()"
   ]
  },
  {
   "cell_type": "code",
   "execution_count": 8,
   "metadata": {},
   "outputs": [
    {
     "data": {
      "text/html": [
       "<div>\n",
       "<style scoped>\n",
       "    .dataframe tbody tr th:only-of-type {\n",
       "        vertical-align: middle;\n",
       "    }\n",
       "\n",
       "    .dataframe tbody tr th {\n",
       "        vertical-align: top;\n",
       "    }\n",
       "\n",
       "    .dataframe thead th {\n",
       "        text-align: right;\n",
       "    }\n",
       "</style>\n",
       "<table border=\"1\" class=\"dataframe\">\n",
       "  <thead>\n",
       "    <tr style=\"text-align: right;\">\n",
       "      <th></th>\n",
       "      <th>path</th>\n",
       "      <th>id</th>\n",
       "    </tr>\n",
       "  </thead>\n",
       "  <tbody>\n",
       "    <tr>\n",
       "      <th>0</th>\n",
       "      <td>v1_test_labels/ref_south_africa_crops_competit...</td>\n",
       "      <td>590</td>\n",
       "    </tr>\n",
       "    <tr>\n",
       "      <th>1</th>\n",
       "      <td>v1_test_labels/ref_south_africa_crops_competit...</td>\n",
       "      <td>1026</td>\n",
       "    </tr>\n",
       "    <tr>\n",
       "      <th>2</th>\n",
       "      <td>v1_test_labels/ref_south_africa_crops_competit...</td>\n",
       "      <td>100</td>\n",
       "    </tr>\n",
       "    <tr>\n",
       "      <th>3</th>\n",
       "      <td>v1_test_labels/ref_south_africa_crops_competit...</td>\n",
       "      <td>332</td>\n",
       "    </tr>\n",
       "    <tr>\n",
       "      <th>4</th>\n",
       "      <td>v1_test_labels/ref_south_africa_crops_competit...</td>\n",
       "      <td>756</td>\n",
       "    </tr>\n",
       "    <tr>\n",
       "      <th>...</th>\n",
       "      <td>...</td>\n",
       "      <td>...</td>\n",
       "    </tr>\n",
       "    <tr>\n",
       "      <th>1132</th>\n",
       "      <td>v1_test_labels/ref_south_africa_crops_competit...</td>\n",
       "      <td>376</td>\n",
       "    </tr>\n",
       "    <tr>\n",
       "      <th>1133</th>\n",
       "      <td>v1_test_labels/ref_south_africa_crops_competit...</td>\n",
       "      <td>1062</td>\n",
       "    </tr>\n",
       "    <tr>\n",
       "      <th>1134</th>\n",
       "      <td>v1_test_labels/ref_south_africa_crops_competit...</td>\n",
       "      <td>382</td>\n",
       "    </tr>\n",
       "    <tr>\n",
       "      <th>1135</th>\n",
       "      <td>v1_test_labels/ref_south_africa_crops_competit...</td>\n",
       "      <td>349</td>\n",
       "    </tr>\n",
       "    <tr>\n",
       "      <th>1136</th>\n",
       "      <td>v1_test_labels/ref_south_africa_crops_competit...</td>\n",
       "      <td>947</td>\n",
       "    </tr>\n",
       "  </tbody>\n",
       "</table>\n",
       "<p>1137 rows × 2 columns</p>\n",
       "</div>"
      ],
      "text/plain": [
       "                                                   path    id\n",
       "0     v1_test_labels/ref_south_africa_crops_competit...   590\n",
       "1     v1_test_labels/ref_south_africa_crops_competit...  1026\n",
       "2     v1_test_labels/ref_south_africa_crops_competit...   100\n",
       "3     v1_test_labels/ref_south_africa_crops_competit...   332\n",
       "4     v1_test_labels/ref_south_africa_crops_competit...   756\n",
       "...                                                 ...   ...\n",
       "1132  v1_test_labels/ref_south_africa_crops_competit...   376\n",
       "1133  v1_test_labels/ref_south_africa_crops_competit...  1062\n",
       "1134  v1_test_labels/ref_south_africa_crops_competit...   382\n",
       "1135  v1_test_labels/ref_south_africa_crops_competit...   349\n",
       "1136  v1_test_labels/ref_south_africa_crops_competit...   947\n",
       "\n",
       "[1137 rows x 2 columns]"
      ]
     },
     "execution_count": 8,
     "metadata": {},
     "output_type": "execute_result"
    }
   ],
   "source": [
    "train_labels"
   ]
  },
  {
   "cell_type": "code",
   "execution_count": 9,
   "metadata": {},
   "outputs": [
    {
     "data": {
      "text/html": [
       "<div>\n",
       "<style scoped>\n",
       "    .dataframe tbody tr th:only-of-type {\n",
       "        vertical-align: middle;\n",
       "    }\n",
       "\n",
       "    .dataframe tbody tr th {\n",
       "        vertical-align: top;\n",
       "    }\n",
       "\n",
       "    .dataframe thead th {\n",
       "        text-align: right;\n",
       "    }\n",
       "</style>\n",
       "<table border=\"1\" class=\"dataframe\">\n",
       "  <thead>\n",
       "    <tr style=\"text-align: right;\">\n",
       "      <th></th>\n",
       "      <th>path</th>\n",
       "    </tr>\n",
       "    <tr>\n",
       "      <th>id</th>\n",
       "      <th></th>\n",
       "    </tr>\n",
       "  </thead>\n",
       "  <tbody>\n",
       "    <tr>\n",
       "      <th>1</th>\n",
       "      <td>1</td>\n",
       "    </tr>\n",
       "    <tr>\n",
       "      <th>749</th>\n",
       "      <td>1</td>\n",
       "    </tr>\n",
       "    <tr>\n",
       "      <th>750</th>\n",
       "      <td>1</td>\n",
       "    </tr>\n",
       "    <tr>\n",
       "      <th>751</th>\n",
       "      <td>1</td>\n",
       "    </tr>\n",
       "    <tr>\n",
       "      <th>752</th>\n",
       "      <td>1</td>\n",
       "    </tr>\n",
       "    <tr>\n",
       "      <th>...</th>\n",
       "      <td>...</td>\n",
       "    </tr>\n",
       "    <tr>\n",
       "      <th>377</th>\n",
       "      <td>1</td>\n",
       "    </tr>\n",
       "    <tr>\n",
       "      <th>376</th>\n",
       "      <td>1</td>\n",
       "    </tr>\n",
       "    <tr>\n",
       "      <th>375</th>\n",
       "      <td>1</td>\n",
       "    </tr>\n",
       "    <tr>\n",
       "      <th>381</th>\n",
       "      <td>1</td>\n",
       "    </tr>\n",
       "    <tr>\n",
       "      <th>1137</th>\n",
       "      <td>1</td>\n",
       "    </tr>\n",
       "  </tbody>\n",
       "</table>\n",
       "<p>1137 rows × 1 columns</p>\n",
       "</div>"
      ],
      "text/plain": [
       "      path\n",
       "id        \n",
       "1        1\n",
       "749      1\n",
       "750      1\n",
       "751      1\n",
       "752      1\n",
       "...    ...\n",
       "377      1\n",
       "376      1\n",
       "375      1\n",
       "381      1\n",
       "1137     1\n",
       "\n",
       "[1137 rows x 1 columns]"
      ]
     },
     "execution_count": 9,
     "metadata": {},
     "output_type": "execute_result"
    }
   ],
   "source": [
    "train_labels.groupby('id').count().sort_values('path')"
   ]
  },
  {
   "cell_type": "code",
   "execution_count": 10,
   "metadata": {},
   "outputs": [
    {
     "name": "stderr",
     "output_type": "stream",
     "text": [
      "1137it [00:01, 799.37it/s]\n"
     ]
    }
   ],
   "source": [
    "fields_labels_on_image = []\n",
    "\n",
    "for i, val in tqdm(train_labels.iterrows()):\n",
    "    \n",
    "    field_ids = gdal.Open(val['path']+'field_ids.tif').ReadAsArray()\n",
    "    \n",
    "    ids = np.unique(field_ids)\n",
    "    ids = ids[ids != 0]\n",
    "    \n",
    "    for idx in ids:\n",
    "\n",
    "        fields_labels_on_image.append([val['id'], idx])\n",
    "\n",
    "fields_labels_on_image = pd.DataFrame(fields_labels_on_image, \n",
    "                                      columns=['id', 'field_id'])"
   ]
  },
  {
   "cell_type": "code",
   "execution_count": 11,
   "metadata": {},
   "outputs": [
    {
     "data": {
      "text/html": [
       "<div>\n",
       "<style scoped>\n",
       "    .dataframe tbody tr th:only-of-type {\n",
       "        vertical-align: middle;\n",
       "    }\n",
       "\n",
       "    .dataframe tbody tr th {\n",
       "        vertical-align: top;\n",
       "    }\n",
       "\n",
       "    .dataframe thead th {\n",
       "        text-align: right;\n",
       "    }\n",
       "</style>\n",
       "<table border=\"1\" class=\"dataframe\">\n",
       "  <thead>\n",
       "    <tr style=\"text-align: right;\">\n",
       "      <th></th>\n",
       "      <th>id</th>\n",
       "      <th>field_id</th>\n",
       "    </tr>\n",
       "  </thead>\n",
       "  <tbody>\n",
       "    <tr>\n",
       "      <th>0</th>\n",
       "      <td>590</td>\n",
       "      <td>1825</td>\n",
       "    </tr>\n",
       "    <tr>\n",
       "      <th>1</th>\n",
       "      <td>590</td>\n",
       "      <td>3079</td>\n",
       "    </tr>\n",
       "    <tr>\n",
       "      <th>2</th>\n",
       "      <td>590</td>\n",
       "      <td>3848</td>\n",
       "    </tr>\n",
       "    <tr>\n",
       "      <th>3</th>\n",
       "      <td>590</td>\n",
       "      <td>28857</td>\n",
       "    </tr>\n",
       "    <tr>\n",
       "      <th>4</th>\n",
       "      <td>590</td>\n",
       "      <td>33478</td>\n",
       "    </tr>\n",
       "    <tr>\n",
       "      <th>...</th>\n",
       "      <td>...</td>\n",
       "      <td>...</td>\n",
       "    </tr>\n",
       "    <tr>\n",
       "      <th>35290</th>\n",
       "      <td>947</td>\n",
       "      <td>95767</td>\n",
       "    </tr>\n",
       "    <tr>\n",
       "      <th>35291</th>\n",
       "      <td>947</td>\n",
       "      <td>101421</td>\n",
       "    </tr>\n",
       "    <tr>\n",
       "      <th>35292</th>\n",
       "      <td>947</td>\n",
       "      <td>105889</td>\n",
       "    </tr>\n",
       "    <tr>\n",
       "      <th>35293</th>\n",
       "      <td>947</td>\n",
       "      <td>115157</td>\n",
       "    </tr>\n",
       "    <tr>\n",
       "      <th>35294</th>\n",
       "      <td>947</td>\n",
       "      <td>117413</td>\n",
       "    </tr>\n",
       "  </tbody>\n",
       "</table>\n",
       "<p>35295 rows × 2 columns</p>\n",
       "</div>"
      ],
      "text/plain": [
       "        id  field_id\n",
       "0      590      1825\n",
       "1      590      3079\n",
       "2      590      3848\n",
       "3      590     28857\n",
       "4      590     33478\n",
       "...    ...       ...\n",
       "35290  947     95767\n",
       "35291  947    101421\n",
       "35292  947    105889\n",
       "35293  947    115157\n",
       "35294  947    117413\n",
       "\n",
       "[35295 rows x 2 columns]"
      ]
     },
     "execution_count": 11,
     "metadata": {},
     "output_type": "execute_result"
    }
   ],
   "source": [
    "fields_labels_on_image"
   ]
  },
  {
   "cell_type": "code",
   "execution_count": 12,
   "metadata": {},
   "outputs": [],
   "source": [
    "train_labels = pd.merge(fields_labels_on_image, train_labels, on=['id'], how='left')"
   ]
  },
  {
   "cell_type": "code",
   "execution_count": 13,
   "metadata": {},
   "outputs": [],
   "source": [
    "train_labels = train_labels.reset_index(drop=True)"
   ]
  },
  {
   "cell_type": "code",
   "execution_count": 14,
   "metadata": {},
   "outputs": [],
   "source": [
    "img1 = train_images[train_images.id == 1].path.values\n",
    "lab1 = train_labels[train_labels.id == 1].path.values[0]"
   ]
  },
  {
   "cell_type": "code",
   "execution_count": 15,
   "metadata": {},
   "outputs": [],
   "source": [
    "b08 = gdal.Open(img1[2]+'B08.tif').ReadAsArray() / 255.\n",
    "b04 = gdal.Open(img1[2]+'B04.tif').ReadAsArray() / 255."
   ]
  },
  {
   "cell_type": "code",
   "execution_count": 16,
   "metadata": {},
   "outputs": [],
   "source": [
    "field_ids = gdal.Open(lab1+'field_ids.tif').ReadAsArray()\n",
    "# labels = gdal.Open(lab1+'labels.tif').ReadAsArray()"
   ]
  },
  {
   "cell_type": "code",
   "execution_count": 17,
   "metadata": {},
   "outputs": [
    {
     "name": "stdout",
     "output_type": "stream",
     "text": [
      "B01.tif   B03.tif   B05.tif   B07.tif   B09.tif   B12.tif   CLM.tif\n",
      "B02.tif   B04.tif   B06.tif   B08.tif   B11.tif   B8A.tif   stac.json\n"
     ]
    }
   ],
   "source": [
    "!ls v1_train_source_s2/ref_south_africa_crops_competition_v1_train_source_s2_0001_2017_09_11/"
   ]
  },
  {
   "cell_type": "code",
   "execution_count": 18,
   "metadata": {},
   "outputs": [
    {
     "name": "stdout",
     "output_type": "stream",
     "text": [
      "field_ids.tif labels.tif    stac.json\n"
     ]
    }
   ],
   "source": [
    "!ls v1_train_labels/ref_south_africa_crops_competition_v1_train_labels_0001/"
   ]
  },
  {
   "cell_type": "code",
   "execution_count": 19,
   "metadata": {},
   "outputs": [
    {
     "data": {
      "text/plain": [
       "<matplotlib.image.AxesImage at 0x173989c40>"
      ]
     },
     "execution_count": 19,
     "metadata": {},
     "output_type": "execute_result"
    },
    {
     "data": {
      "image/png": "[encoded data removed]",
      "text/plain": [
       "<Figure size 432x288 with 1 Axes>"
      ]
     },
     "metadata": {
      "needs_background": "light"
     },
     "output_type": "display_data"
    }
   ],
   "source": [
    "plt.imshow(b04)"
   ]
  },
  {
   "cell_type": "code",
   "execution_count": 20,
   "metadata": {},
   "outputs": [
    {
     "data": {
      "text/plain": [
       "<matplotlib.image.AxesImage at 0x1738185b0>"
      ]
     },
     "execution_count": 20,
     "metadata": {},
     "output_type": "execute_result"
    },
    {
     "data": {
      "image/png": "[encoded data removed]",
      "text/plain": [
       "<Figure size 432x288 with 1 Axes>"
      ]
     },
     "metadata": {
      "needs_background": "light"
     },
     "output_type": "display_data"
    }
   ],
   "source": [
    "ndvi = np.zeros((256, 256))\n",
    "np.divide((b08 - b04), (b08+b04), out=ndvi, where=(b08+b04)!=0)\n",
    "\n",
    "plt.imshow(ndvi)"
   ]
  },
  {
   "cell_type": "code",
   "execution_count": 21,
   "metadata": {},
   "outputs": [
    {
     "data": {
      "text/plain": [
       "array([[0.39240506, 0.43661972, 0.44117647, ..., 0.31578947, 0.28947368,\n",
       "        0.2987013 ],\n",
       "       [0.34246575, 0.41176471, 0.44615385, ..., 0.30120482, 0.28395062,\n",
       "        0.275     ],\n",
       "       [0.36363636, 0.40625   , 0.42857143, ..., 0.2967033 , 0.28089888,\n",
       "        0.26666667],\n",
       "       ...,\n",
       "       [0.26436782, 0.26436782, 0.23809524, ..., 0.62162162, 0.6146789 ,\n",
       "        0.62831858],\n",
       "       [0.23809524, 0.22891566, 0.24390244, ..., 0.62068966, 0.6146789 ,\n",
       "        0.64285714],\n",
       "       [0.22352941, 0.26190476, 0.25581395, ..., 0.59349593, 0.56140351,\n",
       "        0.57522124]])"
      ]
     },
     "execution_count": 21,
     "metadata": {},
     "output_type": "execute_result"
    }
   ],
   "source": [
    "ndvi"
   ]
  },
  {
   "cell_type": "code",
   "execution_count": 22,
   "metadata": {},
   "outputs": [
    {
     "data": {
      "text/plain": [
       "<matplotlib.image.AxesImage at 0x1737bdf40>"
      ]
     },
     "execution_count": 22,
     "metadata": {},
     "output_type": "execute_result"
    },
    {
     "data": {
      "image/png": "[encoded data removed]",
      "text/plain": [
       "<Figure size 432x288 with 1 Axes>"
      ]
     },
     "metadata": {
      "needs_background": "light"
     },
     "output_type": "display_data"
    }
   ],
   "source": [
    "plt.imshow(np.where(field_ids==np.unique(field_ids)[1], ndvi, 0))"
   ]
  },
  {
   "cell_type": "code",
   "execution_count": 23,
   "metadata": {},
   "outputs": [],
   "source": [
    "n = np.where(field_ids==np.unique(field_ids)[1], ndvi, 0)\n",
    "n = n[n != 0]"
   ]
  },
  {
   "cell_type": "code",
   "execution_count": 24,
   "metadata": {},
   "outputs": [
    {
     "data": {
      "text/plain": [
       "0.5006427302538612"
      ]
     },
     "execution_count": 24,
     "metadata": {},
     "output_type": "execute_result"
    }
   ],
   "source": [
    "ndvi[np.where(field_ids==np.unique(field_ids)[1])].mean()"
   ]
  },
  {
   "cell_type": "code",
   "execution_count": 25,
   "metadata": {},
   "outputs": [
    {
     "data": {
      "text/plain": [
       "2199"
      ]
     },
     "execution_count": 25,
     "metadata": {},
     "output_type": "execute_result"
    }
   ],
   "source": [
    "np.unique(field_ids)[1]"
   ]
  },
  {
   "cell_type": "code",
   "execution_count": 26,
   "metadata": {},
   "outputs": [
    {
     "data": {
      "text/plain": [
       "0.5006427302538612"
      ]
     },
     "execution_count": 26,
     "metadata": {},
     "output_type": "execute_result"
    }
   ],
   "source": [
    "n.mean()"
   ]
  },
  {
   "cell_type": "code",
   "execution_count": 27,
   "metadata": {},
   "outputs": [
    {
     "data": {
      "text/plain": [
       "0.3124203737825743"
      ]
     },
     "execution_count": 27,
     "metadata": {},
     "output_type": "execute_result"
    }
   ],
   "source": [
    "np.percentile(ndvi[np.where(field_ids==np.unique(field_ids)[1])], 0.5)"
   ]
  },
  {
   "cell_type": "code",
   "execution_count": 28,
   "metadata": {},
   "outputs": [
    {
     "data": {
      "text/plain": [
       "array([     0,   2199,   2277,   2571,   3112,   7476,   7680,   9012,\n",
       "        10037,  10746,  10850,  11058,  15409,  18539,  20697,  20785,\n",
       "        21397,  22202,  26024,  29605,  29626,  33028,  35966,  37593,\n",
       "        37998,  38318,  39708,  42152,  42634,  44139,  45166,  45197,\n",
       "        45238,  46082,  46735,  47435,  50881,  51663,  51848,  52126,\n",
       "        55278,  55349,  60755,  60996,  62813,  63604,  63738,  64441,\n",
       "        64909,  70512,  70777,  72041,  76043,  76657,  77589,  77620,\n",
       "        78363,  81150,  82299,  82415,  85647,  87327,  87341,  91210,\n",
       "        91864,  92380,  93306,  97012, 100081, 101103, 103547, 106483,\n",
       "       107027, 107078, 107102, 109712, 110829, 111474, 113122, 113347,\n",
       "       113423, 118369, 118412, 119785], dtype=uint32)"
      ]
     },
     "execution_count": 28,
     "metadata": {},
     "output_type": "execute_result"
    }
   ],
   "source": [
    "np.unique(field_ids)"
   ]
  },
  {
   "cell_type": "code",
   "execution_count": 29,
   "metadata": {},
   "outputs": [
    {
     "data": {
      "text/plain": [
       "<matplotlib.image.AxesImage at 0x173771310>"
      ]
     },
     "execution_count": 29,
     "metadata": {},
     "output_type": "execute_result"
    },
    {
     "data": {
      "image/png": "[encoded data removed]",
      "text/plain": [
       "<Figure size 432x288 with 1 Axes>"
      ]
     },
     "metadata": {
      "needs_background": "light"
     },
     "output_type": "display_data"
    }
   ],
   "source": [
    "plt.imshow(field_ids)"
   ]
  },
  {
   "cell_type": "code",
   "execution_count": 31,
   "metadata": {},
   "outputs": [],
   "source": [
    "# NDVI\n",
    "def ndvi_calc(B8A, B04):\n",
    "    ndvi = np.zeros((256, 256))\n",
    "    np.divide((B8A - B04), (B8A+B04), out=ndvi, where=(B8A+B04)!=0)\n",
    "    return ndvi\n",
    "\n",
    "# SOIL ADJUSTED VEGETATION INDEX, SAVI\n",
    "def savi_calc(B8A, B04):\n",
    "    savi = np.zeros((256, 256))\n",
    "    np.divide(1.5*(B8A-B04), (B8A+B04+0.5), out=savi, where=(B8A+B04+0.5)!=0)\n",
    "    return savi\n",
    "\n",
    "# ATMOSPHERICALLY RESISTANT VEGETATION INDEX, ARVI\n",
    "def arvi_calc(B08, B04, B02):\n",
    "    arvi = np.zeros((256, 256))\n",
    "    np.divide((B08-(B04-1*(B02-B04))), (B08+(B04-1*(B02-B04))), out=arvi, where=(B08+(B04-1*(B02-B04)))!=0)\n",
    "    return arvi\n",
    "    \n",
    "\n",
    "# EVI - интенсивный индекс растительности\n",
    "def evi_calc(B8A, B04, B02):\n",
    "    evi = np.zeros((256, 256))\n",
    "    np.divide(2.5*(B8A-B04), ((B8A+6*B04-7.5*B02)+1), out=evi, where=((B8A+6*B04-7.5*B02)+1)!=0)\n",
    "    return evi\n",
    "\n",
    "# GCI - хлорофил\n",
    "def gci_calc(B08, B03):\n",
    "    gci = np.zeros((256, 256))\n",
    "    np.divide(B08, B03, out=gci, where=B03!=0)\n",
    "    return gci-1\n",
    "\n",
    "# SIPI\n",
    "def sipi_calc(B08, B02, B04):\n",
    "    sipi = np.zeros((256, 256))\n",
    "    np.divide((B08-B02), (B08-B04), out=sipi, where=(B08-B04)!=0)\n",
    "    return sipi\n",
    "\n",
    "# NBR\n",
    "def nbr_calc(B8A, B12):\n",
    "    nbr = np.zeros((256, 256))\n",
    "    np.divide((B8A-B12), (B8A+B12), out=nbr, where=(B8A+B12)!=0)\n",
    "    return nbr\n",
    "\n",
    "# NDWI\n",
    "def ndwi_calc(B03, B08):\n",
    "    ndwi = np.zeros((256, 256))\n",
    "    np.divide((B03-B08), (B03+B08), out=ndwi, where=(B03+B08)!=0)\n",
    "    return ndwi\n",
    "\n",
    "# NDSI > 0.4 - снег\n",
    "def ndsi_calc(B03, B11):\n",
    "    ndsi = np.zeros((256, 256))\n",
    "    np.divide((B03-B11), (B03+B11), out=ndsi, where=(B03+B11)!=0)\n",
    "    return ndsi\n",
    "\n",
    "# DEFORESTATION INDEX\n",
    "def deforest_calc(B03, B09, B11, B12):\n",
    "    return (B03+B09)*(B11+B12)\n",
    "\n",
    "# FIRE DETECTION INDEX\n",
    "def fire_calc(B12, B8A, B09):\n",
    "    fire = np.zeros((256, 256))\n",
    "    np.divide(B12, (B8A*B09), out=fire, where=(B8A*B09)!=0)\n",
    "    return fire"
   ]
  },
  {
   "cell_type": "code",
   "execution_count": 32,
   "metadata": {},
   "outputs": [
    {
     "data": {
      "text/html": [
       "<div>\n",
       "<style scoped>\n",
       "    .dataframe tbody tr th:only-of-type {\n",
       "        vertical-align: middle;\n",
       "    }\n",
       "\n",
       "    .dataframe tbody tr th {\n",
       "        vertical-align: top;\n",
       "    }\n",
       "\n",
       "    .dataframe thead th {\n",
       "        text-align: right;\n",
       "    }\n",
       "</style>\n",
       "<table border=\"1\" class=\"dataframe\">\n",
       "  <thead>\n",
       "    <tr style=\"text-align: right;\">\n",
       "      <th></th>\n",
       "      <th>id</th>\n",
       "      <th>field_id</th>\n",
       "      <th>path</th>\n",
       "    </tr>\n",
       "  </thead>\n",
       "  <tbody>\n",
       "    <tr>\n",
       "      <th>0</th>\n",
       "      <td>590</td>\n",
       "      <td>1825</td>\n",
       "      <td>v1_test_labels/ref_south_africa_crops_competit...</td>\n",
       "    </tr>\n",
       "  </tbody>\n",
       "</table>\n",
       "</div>"
      ],
      "text/plain": [
       "    id  field_id                                               path\n",
       "0  590      1825  v1_test_labels/ref_south_africa_crops_competit..."
      ]
     },
     "execution_count": 32,
     "metadata": {},
     "output_type": "execute_result"
    }
   ],
   "source": [
    "train_labels.head(1)"
   ]
  },
  {
   "cell_type": "code",
   "execution_count": 33,
   "metadata": {},
   "outputs": [
    {
     "data": {
      "text/plain": [
       "array([726, 762, 610, ..., 780,  36, 283])"
      ]
     },
     "execution_count": 33,
     "metadata": {},
     "output_type": "execute_result"
    }
   ],
   "source": [
    "train_images.id.unique()"
   ]
  },
  {
   "cell_type": "code",
   "execution_count": 34,
   "metadata": {},
   "outputs": [
    {
     "data": {
      "text/html": [
       "<div>\n",
       "<style scoped>\n",
       "    .dataframe tbody tr th:only-of-type {\n",
       "        vertical-align: middle;\n",
       "    }\n",
       "\n",
       "    .dataframe tbody tr th {\n",
       "        vertical-align: top;\n",
       "    }\n",
       "\n",
       "    .dataframe thead th {\n",
       "        text-align: right;\n",
       "    }\n",
       "</style>\n",
       "<table border=\"1\" class=\"dataframe\">\n",
       "  <thead>\n",
       "    <tr style=\"text-align: right;\">\n",
       "      <th></th>\n",
       "      <th>path</th>\n",
       "      <th>id</th>\n",
       "      <th>date</th>\n",
       "    </tr>\n",
       "  </thead>\n",
       "  <tbody>\n",
       "    <tr>\n",
       "      <th>818</th>\n",
       "      <td>v1_test_source_s2/ref_south_africa_crops_compe...</td>\n",
       "      <td>1</td>\n",
       "      <td>2017-05-01</td>\n",
       "    </tr>\n",
       "    <tr>\n",
       "      <th>1279</th>\n",
       "      <td>v1_test_source_s2/ref_south_africa_crops_compe...</td>\n",
       "      <td>1</td>\n",
       "      <td>2017-06-10</td>\n",
       "    </tr>\n",
       "    <tr>\n",
       "      <th>2586</th>\n",
       "      <td>v1_test_source_s2/ref_south_africa_crops_compe...</td>\n",
       "      <td>1</td>\n",
       "      <td>2017-11-07</td>\n",
       "    </tr>\n",
       "    <tr>\n",
       "      <th>4250</th>\n",
       "      <td>v1_test_source_s2/ref_south_africa_crops_compe...</td>\n",
       "      <td>1</td>\n",
       "      <td>2017-05-31</td>\n",
       "    </tr>\n",
       "    <tr>\n",
       "      <th>5626</th>\n",
       "      <td>v1_test_source_s2/ref_south_africa_crops_compe...</td>\n",
       "      <td>1</td>\n",
       "      <td>2017-06-20</td>\n",
       "    </tr>\n",
       "    <tr>\n",
       "      <th>9515</th>\n",
       "      <td>v1_test_source_s2/ref_south_africa_crops_compe...</td>\n",
       "      <td>1</td>\n",
       "      <td>2017-07-20</td>\n",
       "    </tr>\n",
       "    <tr>\n",
       "      <th>10104</th>\n",
       "      <td>v1_test_source_s2/ref_south_africa_crops_compe...</td>\n",
       "      <td>1</td>\n",
       "      <td>2017-10-08</td>\n",
       "    </tr>\n",
       "    <tr>\n",
       "      <th>10538</th>\n",
       "      <td>v1_test_source_s2/ref_south_africa_crops_compe...</td>\n",
       "      <td>1</td>\n",
       "      <td>2017-08-04</td>\n",
       "    </tr>\n",
       "    <tr>\n",
       "      <th>12450</th>\n",
       "      <td>v1_test_source_s2/ref_south_africa_crops_compe...</td>\n",
       "      <td>1</td>\n",
       "      <td>2017-04-01</td>\n",
       "    </tr>\n",
       "    <tr>\n",
       "      <th>12864</th>\n",
       "      <td>v1_test_source_s2/ref_south_africa_crops_compe...</td>\n",
       "      <td>1</td>\n",
       "      <td>2017-07-10</td>\n",
       "    </tr>\n",
       "    <tr>\n",
       "      <th>16253</th>\n",
       "      <td>v1_test_source_s2/ref_south_africa_crops_compe...</td>\n",
       "      <td>1</td>\n",
       "      <td>2017-10-13</td>\n",
       "    </tr>\n",
       "    <tr>\n",
       "      <th>17275</th>\n",
       "      <td>v1_test_source_s2/ref_south_africa_crops_compe...</td>\n",
       "      <td>1</td>\n",
       "      <td>2017-08-29</td>\n",
       "    </tr>\n",
       "    <tr>\n",
       "      <th>19702</th>\n",
       "      <td>v1_test_source_s2/ref_south_africa_crops_compe...</td>\n",
       "      <td>1</td>\n",
       "      <td>2017-10-23</td>\n",
       "    </tr>\n",
       "    <tr>\n",
       "      <th>20667</th>\n",
       "      <td>v1_test_source_s2/ref_south_africa_crops_compe...</td>\n",
       "      <td>1</td>\n",
       "      <td>2017-08-19</td>\n",
       "    </tr>\n",
       "    <tr>\n",
       "      <th>21926</th>\n",
       "      <td>v1_test_source_s2/ref_south_africa_crops_compe...</td>\n",
       "      <td>1</td>\n",
       "      <td>2017-07-05</td>\n",
       "    </tr>\n",
       "    <tr>\n",
       "      <th>23459</th>\n",
       "      <td>v1_test_source_s2/ref_south_africa_crops_compe...</td>\n",
       "      <td>1</td>\n",
       "      <td>2017-09-28</td>\n",
       "    </tr>\n",
       "    <tr>\n",
       "      <th>24407</th>\n",
       "      <td>v1_test_source_s2/ref_south_africa_crops_compe...</td>\n",
       "      <td>1</td>\n",
       "      <td>2017-11-12</td>\n",
       "    </tr>\n",
       "    <tr>\n",
       "      <th>27793</th>\n",
       "      <td>v1_test_source_s2/ref_south_africa_crops_compe...</td>\n",
       "      <td>1</td>\n",
       "      <td>2017-09-18</td>\n",
       "    </tr>\n",
       "    <tr>\n",
       "      <th>28710</th>\n",
       "      <td>v1_test_source_s2/ref_south_africa_crops_compe...</td>\n",
       "      <td>1</td>\n",
       "      <td>2017-11-22</td>\n",
       "    </tr>\n",
       "    <tr>\n",
       "      <th>31471</th>\n",
       "      <td>v1_test_source_s2/ref_south_africa_crops_compe...</td>\n",
       "      <td>1</td>\n",
       "      <td>2017-09-08</td>\n",
       "    </tr>\n",
       "    <tr>\n",
       "      <th>35804</th>\n",
       "      <td>v1_test_source_s2/ref_south_africa_crops_compe...</td>\n",
       "      <td>1</td>\n",
       "      <td>2017-11-02</td>\n",
       "    </tr>\n",
       "    <tr>\n",
       "      <th>39582</th>\n",
       "      <td>v1_test_source_s2/ref_south_africa_crops_compe...</td>\n",
       "      <td>1</td>\n",
       "      <td>2017-08-09</td>\n",
       "    </tr>\n",
       "    <tr>\n",
       "      <th>41215</th>\n",
       "      <td>v1_test_source_s2/ref_south_africa_crops_compe...</td>\n",
       "      <td>1</td>\n",
       "      <td>2017-07-15</td>\n",
       "    </tr>\n",
       "    <tr>\n",
       "      <th>43016</th>\n",
       "      <td>v1_test_source_s2/ref_south_africa_crops_compe...</td>\n",
       "      <td>1</td>\n",
       "      <td>2017-10-03</td>\n",
       "    </tr>\n",
       "    <tr>\n",
       "      <th>44645</th>\n",
       "      <td>v1_test_source_s2/ref_south_africa_crops_compe...</td>\n",
       "      <td>1</td>\n",
       "      <td>2017-07-25</td>\n",
       "    </tr>\n",
       "    <tr>\n",
       "      <th>46855</th>\n",
       "      <td>v1_test_source_s2/ref_south_africa_crops_compe...</td>\n",
       "      <td>1</td>\n",
       "      <td>2017-04-11</td>\n",
       "    </tr>\n",
       "    <tr>\n",
       "      <th>48278</th>\n",
       "      <td>v1_test_source_s2/ref_south_africa_crops_compe...</td>\n",
       "      <td>1</td>\n",
       "      <td>2017-08-24</td>\n",
       "    </tr>\n",
       "    <tr>\n",
       "      <th>48711</th>\n",
       "      <td>v1_test_source_s2/ref_south_africa_crops_compe...</td>\n",
       "      <td>1</td>\n",
       "      <td>2017-10-28</td>\n",
       "    </tr>\n",
       "    <tr>\n",
       "      <th>50222</th>\n",
       "      <td>v1_test_source_s2/ref_south_africa_crops_compe...</td>\n",
       "      <td>1</td>\n",
       "      <td>2017-04-21</td>\n",
       "    </tr>\n",
       "    <tr>\n",
       "      <th>51698</th>\n",
       "      <td>v1_test_source_s2/ref_south_africa_crops_compe...</td>\n",
       "      <td>1</td>\n",
       "      <td>2017-07-30</td>\n",
       "    </tr>\n",
       "    <tr>\n",
       "      <th>52071</th>\n",
       "      <td>v1_test_source_s2/ref_south_africa_crops_compe...</td>\n",
       "      <td>1</td>\n",
       "      <td>2017-10-18</td>\n",
       "    </tr>\n",
       "    <tr>\n",
       "      <th>52559</th>\n",
       "      <td>v1_test_source_s2/ref_south_africa_crops_compe...</td>\n",
       "      <td>1</td>\n",
       "      <td>2017-08-14</td>\n",
       "    </tr>\n",
       "    <tr>\n",
       "      <th>54063</th>\n",
       "      <td>v1_test_source_s2/ref_south_africa_crops_compe...</td>\n",
       "      <td>1</td>\n",
       "      <td>2017-05-21</td>\n",
       "    </tr>\n",
       "    <tr>\n",
       "      <th>55576</th>\n",
       "      <td>v1_test_source_s2/ref_south_africa_crops_compe...</td>\n",
       "      <td>1</td>\n",
       "      <td>2017-06-30</td>\n",
       "    </tr>\n",
       "    <tr>\n",
       "      <th>56209</th>\n",
       "      <td>v1_test_source_s2/ref_south_africa_crops_compe...</td>\n",
       "      <td>1</td>\n",
       "      <td>2017-11-27</td>\n",
       "    </tr>\n",
       "    <tr>\n",
       "      <th>58435</th>\n",
       "      <td>v1_test_source_s2/ref_south_africa_crops_compe...</td>\n",
       "      <td>1</td>\n",
       "      <td>2017-05-11</td>\n",
       "    </tr>\n",
       "    <tr>\n",
       "      <th>60491</th>\n",
       "      <td>v1_test_source_s2/ref_south_africa_crops_compe...</td>\n",
       "      <td>1</td>\n",
       "      <td>2017-09-23</td>\n",
       "    </tr>\n",
       "    <tr>\n",
       "      <th>60583</th>\n",
       "      <td>v1_test_source_s2/ref_south_africa_crops_compe...</td>\n",
       "      <td>1</td>\n",
       "      <td>2017-11-17</td>\n",
       "    </tr>\n",
       "  </tbody>\n",
       "</table>\n",
       "</div>"
      ],
      "text/plain": [
       "                                                    path  id       date\n",
       "818    v1_test_source_s2/ref_south_africa_crops_compe...   1 2017-05-01\n",
       "1279   v1_test_source_s2/ref_south_africa_crops_compe...   1 2017-06-10\n",
       "2586   v1_test_source_s2/ref_south_africa_crops_compe...   1 2017-11-07\n",
       "4250   v1_test_source_s2/ref_south_africa_crops_compe...   1 2017-05-31\n",
       "5626   v1_test_source_s2/ref_south_africa_crops_compe...   1 2017-06-20\n",
       "9515   v1_test_source_s2/ref_south_africa_crops_compe...   1 2017-07-20\n",
       "10104  v1_test_source_s2/ref_south_africa_crops_compe...   1 2017-10-08\n",
       "10538  v1_test_source_s2/ref_south_africa_crops_compe...   1 2017-08-04\n",
       "12450  v1_test_source_s2/ref_south_africa_crops_compe...   1 2017-04-01\n",
       "12864  v1_test_source_s2/ref_south_africa_crops_compe...   1 2017-07-10\n",
       "16253  v1_test_source_s2/ref_south_africa_crops_compe...   1 2017-10-13\n",
       "17275  v1_test_source_s2/ref_south_africa_crops_compe...   1 2017-08-29\n",
       "19702  v1_test_source_s2/ref_south_africa_crops_compe...   1 2017-10-23\n",
       "20667  v1_test_source_s2/ref_south_africa_crops_compe...   1 2017-08-19\n",
       "21926  v1_test_source_s2/ref_south_africa_crops_compe...   1 2017-07-05\n",
       "23459  v1_test_source_s2/ref_south_africa_crops_compe...   1 2017-09-28\n",
       "24407  v1_test_source_s2/ref_south_africa_crops_compe...   1 2017-11-12\n",
       "27793  v1_test_source_s2/ref_south_africa_crops_compe...   1 2017-09-18\n",
       "28710  v1_test_source_s2/ref_south_africa_crops_compe...   1 2017-11-22\n",
       "31471  v1_test_source_s2/ref_south_africa_crops_compe...   1 2017-09-08\n",
       "35804  v1_test_source_s2/ref_south_africa_crops_compe...   1 2017-11-02\n",
       "39582  v1_test_source_s2/ref_south_africa_crops_compe...   1 2017-08-09\n",
       "41215  v1_test_source_s2/ref_south_africa_crops_compe...   1 2017-07-15\n",
       "43016  v1_test_source_s2/ref_south_africa_crops_compe...   1 2017-10-03\n",
       "44645  v1_test_source_s2/ref_south_africa_crops_compe...   1 2017-07-25\n",
       "46855  v1_test_source_s2/ref_south_africa_crops_compe...   1 2017-04-11\n",
       "48278  v1_test_source_s2/ref_south_africa_crops_compe...   1 2017-08-24\n",
       "48711  v1_test_source_s2/ref_south_africa_crops_compe...   1 2017-10-28\n",
       "50222  v1_test_source_s2/ref_south_africa_crops_compe...   1 2017-04-21\n",
       "51698  v1_test_source_s2/ref_south_africa_crops_compe...   1 2017-07-30\n",
       "52071  v1_test_source_s2/ref_south_africa_crops_compe...   1 2017-10-18\n",
       "52559  v1_test_source_s2/ref_south_africa_crops_compe...   1 2017-08-14\n",
       "54063  v1_test_source_s2/ref_south_africa_crops_compe...   1 2017-05-21\n",
       "55576  v1_test_source_s2/ref_south_africa_crops_compe...   1 2017-06-30\n",
       "56209  v1_test_source_s2/ref_south_africa_crops_compe...   1 2017-11-27\n",
       "58435  v1_test_source_s2/ref_south_africa_crops_compe...   1 2017-05-11\n",
       "60491  v1_test_source_s2/ref_south_africa_crops_compe...   1 2017-09-23\n",
       "60583  v1_test_source_s2/ref_south_africa_crops_compe...   1 2017-11-17"
      ]
     },
     "execution_count": 34,
     "metadata": {},
     "output_type": "execute_result"
    }
   ],
   "source": [
    "train_images[train_images.id == 1]"
   ]
  },
  {
   "cell_type": "code",
   "execution_count": 35,
   "metadata": {},
   "outputs": [],
   "source": [
    "part1 = train_images.id.unique()\n",
    "\n",
    "columns = ['id', 'date', 'field_id']\n",
    "for indx in ['ndvi', 'savi', 'arvi', 'evi', 'gci', 'sipi', 'nbr', 'ndwi', 'deforest',\n",
    "             'B01', 'B02', 'B03', 'B04', 'B05', 'B06', 'B07', 'B08', 'B8A', 'B09', 'B11', 'B12']:\n",
    "    \n",
    "    for post in ['mean', 'median']:\n",
    "        columns.append(indx+'_'+post)"
   ]
  },
  {
   "cell_type": "code",
   "execution_count": 36,
   "metadata": {},
   "outputs": [
    {
     "name": "stderr",
     "output_type": "stream",
     "text": [
      "100%|█████████████████████████████████████| 1137/1137 [4:31:01<00:00, 14.30s/it]\n"
     ]
    }
   ],
   "source": [
    "result = []\n",
    "\n",
    "for image_id in tqdm(part1):\n",
    "    \n",
    "    temp_train_images = train_images[train_images.id == image_id]\n",
    "\n",
    "    for j in range(temp_train_images.shape[0]):\n",
    "        \n",
    "        path_to_image = temp_train_images.path.values[j]\n",
    "        image_date = temp_train_images.date.values[j]\n",
    "        \n",
    "        B01 = gdal.Open(path_to_image+'B01.tif').ReadAsArray() / 255.\n",
    "        B02 = gdal.Open(path_to_image+'B02.tif').ReadAsArray() / 255.\n",
    "        B03 = gdal.Open(path_to_image+'B03.tif').ReadAsArray() / 255.\n",
    "        B04 = gdal.Open(path_to_image+'B04.tif').ReadAsArray() / 255.\n",
    "        B05 = gdal.Open(path_to_image+'B05.tif').ReadAsArray() / 255.\n",
    "        B06 = gdal.Open(path_to_image+'B06.tif').ReadAsArray() / 255.\n",
    "        B07 = gdal.Open(path_to_image+'B07.tif').ReadAsArray() / 255.\n",
    "        B08 = gdal.Open(path_to_image+'B08.tif').ReadAsArray() / 255.\n",
    "        B8A = gdal.Open(path_to_image+'B8A.tif').ReadAsArray() / 255.\n",
    "        B09 = gdal.Open(path_to_image+'B09.tif').ReadAsArray() / 255.\n",
    "        B11 = gdal.Open(path_to_image+'B11.tif').ReadAsArray() / 255.\n",
    "        B12 = gdal.Open(path_to_image+'B12.tif').ReadAsArray() / 255.\n",
    "        \n",
    "        ndvi = ndvi_calc(B8A, B04)\n",
    "        savi = savi_calc(B8A, B04)\n",
    "        arvi = arvi_calc(B08, B04, B02)\n",
    "        evi = evi_calc(B8A, B04, B02)\n",
    "        gci = gci_calc(B08, B03)\n",
    "        sipi = sipi_calc(B08, B02, B04)\n",
    "        nbr = nbr_calc(B8A, B12)\n",
    "        ndwi = ndwi_calc(B03, B08)\n",
    "        deforest = deforest_calc(B03, B09, B11, B12)\n",
    "    \n",
    "        temp_train_labels = train_labels[train_labels.id == image_id]\n",
    "        \n",
    "        for i in range(temp_train_labels.shape[0]):\n",
    "    \n",
    "            field_id = temp_train_labels.field_id.values[i]\n",
    "#             label = temp_train_labels.label.values[i]\n",
    "    \n",
    "            field_ids = gdal.Open(temp_train_labels.path.values[i]+'field_ids.tif').ReadAsArray()\n",
    "        \n",
    "            temp_result = [image_id, image_date, field_id]\n",
    "            \n",
    "            for indx in [ndvi, savi, arvi, evi, gci, sipi, nbr, ndwi, deforest,\n",
    "                         B01, B02, B03, B04, B05, B06, B07, B08, B8A, B09, B11, B12]:\n",
    "                \n",
    "                res_mean = indx[np.where(field_ids==field_id)].mean()\n",
    "                res_median = np.median(ndvi[np.where(field_ids==field_id)])\n",
    "                \n",
    "                temp_result.append(res_mean)\n",
    "                temp_result.append(res_median)\n",
    "            \n",
    "            result.append(temp_result)\n",
    "\n",
    "res = pd.DataFrame(result, columns=columns)\n",
    "res.to_csv('test.csv', index=False)"
   ]
  },
  {
   "cell_type": "code",
   "execution_count": 37,
   "metadata": {},
   "outputs": [
    {
     "data": {
      "text/html": [
       "<div>\n",
       "<style scoped>\n",
       "    .dataframe tbody tr th:only-of-type {\n",
       "        vertical-align: middle;\n",
       "    }\n",
       "\n",
       "    .dataframe tbody tr th {\n",
       "        vertical-align: top;\n",
       "    }\n",
       "\n",
       "    .dataframe thead th {\n",
       "        text-align: right;\n",
       "    }\n",
       "</style>\n",
       "<table border=\"1\" class=\"dataframe\">\n",
       "  <thead>\n",
       "    <tr style=\"text-align: right;\">\n",
       "      <th></th>\n",
       "      <th>id</th>\n",
       "      <th>date</th>\n",
       "      <th>field_id</th>\n",
       "      <th>ndvi_mean</th>\n",
       "      <th>ndvi_median</th>\n",
       "      <th>savi_mean</th>\n",
       "      <th>savi_median</th>\n",
       "      <th>arvi_mean</th>\n",
       "      <th>arvi_median</th>\n",
       "      <th>evi_mean</th>\n",
       "      <th>...</th>\n",
       "      <th>B08_mean</th>\n",
       "      <th>B08_median</th>\n",
       "      <th>B8A_mean</th>\n",
       "      <th>B8A_median</th>\n",
       "      <th>B09_mean</th>\n",
       "      <th>B09_median</th>\n",
       "      <th>B11_mean</th>\n",
       "      <th>B11_median</th>\n",
       "      <th>B12_mean</th>\n",
       "      <th>B12_median</th>\n",
       "    </tr>\n",
       "  </thead>\n",
       "  <tbody>\n",
       "    <tr>\n",
       "      <th>0</th>\n",
       "      <td>726</td>\n",
       "      <td>2017-07-25</td>\n",
       "      <td>1518</td>\n",
       "      <td>-0.033208</td>\n",
       "      <td>-0.071641</td>\n",
       "      <td>-0.037136</td>\n",
       "      <td>-0.071641</td>\n",
       "      <td>0.097800</td>\n",
       "      <td>-0.071641</td>\n",
       "      <td>-2.377466e+11</td>\n",
       "      <td>...</td>\n",
       "      <td>0.792217</td>\n",
       "      <td>-0.071641</td>\n",
       "      <td>0.714908</td>\n",
       "      <td>-0.071641</td>\n",
       "      <td>0.998661</td>\n",
       "      <td>-0.071641</td>\n",
       "      <td>0.516308</td>\n",
       "      <td>-0.071641</td>\n",
       "      <td>0.384796</td>\n",
       "      <td>-0.071641</td>\n",
       "    </tr>\n",
       "    <tr>\n",
       "      <th>1</th>\n",
       "      <td>726</td>\n",
       "      <td>2017-07-25</td>\n",
       "      <td>1993</td>\n",
       "      <td>-0.024055</td>\n",
       "      <td>-0.055417</td>\n",
       "      <td>-0.026717</td>\n",
       "      <td>-0.055417</td>\n",
       "      <td>0.081945</td>\n",
       "      <td>-0.055417</td>\n",
       "      <td>2.914940e-01</td>\n",
       "      <td>...</td>\n",
       "      <td>0.740807</td>\n",
       "      <td>-0.055417</td>\n",
       "      <td>0.691173</td>\n",
       "      <td>-0.055417</td>\n",
       "      <td>0.999498</td>\n",
       "      <td>-0.055417</td>\n",
       "      <td>0.471037</td>\n",
       "      <td>-0.055417</td>\n",
       "      <td>0.348069</td>\n",
       "      <td>-0.055417</td>\n",
       "    </tr>\n",
       "    <tr>\n",
       "      <th>2</th>\n",
       "      <td>726</td>\n",
       "      <td>2017-07-25</td>\n",
       "      <td>6538</td>\n",
       "      <td>-0.026679</td>\n",
       "      <td>-0.053401</td>\n",
       "      <td>-0.030832</td>\n",
       "      <td>-0.053401</td>\n",
       "      <td>0.052477</td>\n",
       "      <td>-0.053401</td>\n",
       "      <td>6.074065e-01</td>\n",
       "      <td>...</td>\n",
       "      <td>0.856916</td>\n",
       "      <td>-0.053401</td>\n",
       "      <td>0.827408</td>\n",
       "      <td>-0.053401</td>\n",
       "      <td>1.000000</td>\n",
       "      <td>-0.053401</td>\n",
       "      <td>0.529658</td>\n",
       "      <td>-0.053401</td>\n",
       "      <td>0.401779</td>\n",
       "      <td>-0.053401</td>\n",
       "    </tr>\n",
       "    <tr>\n",
       "      <th>3</th>\n",
       "      <td>726</td>\n",
       "      <td>2017-07-25</td>\n",
       "      <td>15075</td>\n",
       "      <td>-0.015396</td>\n",
       "      <td>-0.065466</td>\n",
       "      <td>-0.016119</td>\n",
       "      <td>-0.065466</td>\n",
       "      <td>0.102978</td>\n",
       "      <td>-0.065466</td>\n",
       "      <td>7.630116e+11</td>\n",
       "      <td>...</td>\n",
       "      <td>0.626078</td>\n",
       "      <td>-0.065466</td>\n",
       "      <td>0.557062</td>\n",
       "      <td>-0.065466</td>\n",
       "      <td>0.810897</td>\n",
       "      <td>-0.065466</td>\n",
       "      <td>0.471926</td>\n",
       "      <td>-0.065466</td>\n",
       "      <td>0.365826</td>\n",
       "      <td>-0.065466</td>\n",
       "    </tr>\n",
       "    <tr>\n",
       "      <th>4</th>\n",
       "      <td>726</td>\n",
       "      <td>2017-07-25</td>\n",
       "      <td>43095</td>\n",
       "      <td>-0.008534</td>\n",
       "      <td>-0.056678</td>\n",
       "      <td>-0.008868</td>\n",
       "      <td>-0.056678</td>\n",
       "      <td>0.101562</td>\n",
       "      <td>-0.056678</td>\n",
       "      <td>2.005676e-02</td>\n",
       "      <td>...</td>\n",
       "      <td>0.579319</td>\n",
       "      <td>-0.056678</td>\n",
       "      <td>0.514844</td>\n",
       "      <td>-0.056678</td>\n",
       "      <td>0.739596</td>\n",
       "      <td>-0.056678</td>\n",
       "      <td>0.473172</td>\n",
       "      <td>-0.056678</td>\n",
       "      <td>0.390669</td>\n",
       "      <td>-0.056678</td>\n",
       "    </tr>\n",
       "    <tr>\n",
       "      <th>...</th>\n",
       "      <td>...</td>\n",
       "      <td>...</td>\n",
       "      <td>...</td>\n",
       "      <td>...</td>\n",
       "      <td>...</td>\n",
       "      <td>...</td>\n",
       "      <td>...</td>\n",
       "      <td>...</td>\n",
       "      <td>...</td>\n",
       "      <td>...</td>\n",
       "      <td>...</td>\n",
       "      <td>...</td>\n",
       "      <td>...</td>\n",
       "      <td>...</td>\n",
       "      <td>...</td>\n",
       "      <td>...</td>\n",
       "      <td>...</td>\n",
       "      <td>...</td>\n",
       "      <td>...</td>\n",
       "      <td>...</td>\n",
       "      <td>...</td>\n",
       "    </tr>\n",
       "    <tr>\n",
       "      <th>1744549</th>\n",
       "      <td>283</td>\n",
       "      <td>2017-11-20</td>\n",
       "      <td>105745</td>\n",
       "      <td>0.089576</td>\n",
       "      <td>0.044475</td>\n",
       "      <td>0.077100</td>\n",
       "      <td>0.044475</td>\n",
       "      <td>-0.109784</td>\n",
       "      <td>0.044475</td>\n",
       "      <td>7.495096e-02</td>\n",
       "      <td>...</td>\n",
       "      <td>0.370331</td>\n",
       "      <td>0.044475</td>\n",
       "      <td>0.374790</td>\n",
       "      <td>0.044475</td>\n",
       "      <td>0.375373</td>\n",
       "      <td>0.044475</td>\n",
       "      <td>0.480159</td>\n",
       "      <td>0.044475</td>\n",
       "      <td>0.415546</td>\n",
       "      <td>0.044475</td>\n",
       "    </tr>\n",
       "    <tr>\n",
       "      <th>1744550</th>\n",
       "      <td>283</td>\n",
       "      <td>2017-11-10</td>\n",
       "      <td>31855</td>\n",
       "      <td>0.127226</td>\n",
       "      <td>0.047788</td>\n",
       "      <td>0.100391</td>\n",
       "      <td>0.047788</td>\n",
       "      <td>-0.119695</td>\n",
       "      <td>0.047788</td>\n",
       "      <td>8.391976e-02</td>\n",
       "      <td>...</td>\n",
       "      <td>0.324556</td>\n",
       "      <td>0.047788</td>\n",
       "      <td>0.324090</td>\n",
       "      <td>0.047788</td>\n",
       "      <td>0.292344</td>\n",
       "      <td>0.047788</td>\n",
       "      <td>0.458730</td>\n",
       "      <td>0.047788</td>\n",
       "      <td>0.414472</td>\n",
       "      <td>0.047788</td>\n",
       "    </tr>\n",
       "    <tr>\n",
       "      <th>1744551</th>\n",
       "      <td>283</td>\n",
       "      <td>2017-11-10</td>\n",
       "      <td>81124</td>\n",
       "      <td>0.134270</td>\n",
       "      <td>0.048512</td>\n",
       "      <td>0.105178</td>\n",
       "      <td>0.048512</td>\n",
       "      <td>-0.124415</td>\n",
       "      <td>0.048512</td>\n",
       "      <td>8.793807e-02</td>\n",
       "      <td>...</td>\n",
       "      <td>0.316929</td>\n",
       "      <td>0.048512</td>\n",
       "      <td>0.322839</td>\n",
       "      <td>0.048512</td>\n",
       "      <td>0.318034</td>\n",
       "      <td>0.048512</td>\n",
       "      <td>0.472908</td>\n",
       "      <td>0.048512</td>\n",
       "      <td>0.425739</td>\n",
       "      <td>0.048512</td>\n",
       "    </tr>\n",
       "    <tr>\n",
       "      <th>1744552</th>\n",
       "      <td>283</td>\n",
       "      <td>2017-11-10</td>\n",
       "      <td>97450</td>\n",
       "      <td>0.086399</td>\n",
       "      <td>0.031876</td>\n",
       "      <td>0.073998</td>\n",
       "      <td>0.031876</td>\n",
       "      <td>-0.170573</td>\n",
       "      <td>0.031876</td>\n",
       "      <td>5.851312e-02</td>\n",
       "      <td>...</td>\n",
       "      <td>0.363411</td>\n",
       "      <td>0.031876</td>\n",
       "      <td>0.362699</td>\n",
       "      <td>0.031876</td>\n",
       "      <td>0.362617</td>\n",
       "      <td>0.031876</td>\n",
       "      <td>0.484177</td>\n",
       "      <td>0.031876</td>\n",
       "      <td>0.435185</td>\n",
       "      <td>0.031876</td>\n",
       "    </tr>\n",
       "    <tr>\n",
       "      <th>1744553</th>\n",
       "      <td>283</td>\n",
       "      <td>2017-11-10</td>\n",
       "      <td>105745</td>\n",
       "      <td>0.093199</td>\n",
       "      <td>0.022556</td>\n",
       "      <td>0.077166</td>\n",
       "      <td>0.022556</td>\n",
       "      <td>-0.146691</td>\n",
       "      <td>0.022556</td>\n",
       "      <td>6.514943e-02</td>\n",
       "      <td>...</td>\n",
       "      <td>0.347409</td>\n",
       "      <td>0.022556</td>\n",
       "      <td>0.347432</td>\n",
       "      <td>0.022556</td>\n",
       "      <td>0.342344</td>\n",
       "      <td>0.022556</td>\n",
       "      <td>0.454832</td>\n",
       "      <td>0.022556</td>\n",
       "      <td>0.407400</td>\n",
       "      <td>0.022556</td>\n",
       "    </tr>\n",
       "  </tbody>\n",
       "</table>\n",
       "<p>1744554 rows × 45 columns</p>\n",
       "</div>"
      ],
      "text/plain": [
       "          id       date  field_id  ndvi_mean  ndvi_median  savi_mean  \\\n",
       "0        726 2017-07-25      1518  -0.033208    -0.071641  -0.037136   \n",
       "1        726 2017-07-25      1993  -0.024055    -0.055417  -0.026717   \n",
       "2        726 2017-07-25      6538  -0.026679    -0.053401  -0.030832   \n",
       "3        726 2017-07-25     15075  -0.015396    -0.065466  -0.016119   \n",
       "4        726 2017-07-25     43095  -0.008534    -0.056678  -0.008868   \n",
       "...      ...        ...       ...        ...          ...        ...   \n",
       "1744549  283 2017-11-20    105745   0.089576     0.044475   0.077100   \n",
       "1744550  283 2017-11-10     31855   0.127226     0.047788   0.100391   \n",
       "1744551  283 2017-11-10     81124   0.134270     0.048512   0.105178   \n",
       "1744552  283 2017-11-10     97450   0.086399     0.031876   0.073998   \n",
       "1744553  283 2017-11-10    105745   0.093199     0.022556   0.077166   \n",
       "\n",
       "         savi_median  arvi_mean  arvi_median      evi_mean  ...  B08_mean  \\\n",
       "0          -0.071641   0.097800    -0.071641 -2.377466e+11  ...  0.792217   \n",
       "1          -0.055417   0.081945    -0.055417  2.914940e-01  ...  0.740807   \n",
       "2          -0.053401   0.052477    -0.053401  6.074065e-01  ...  0.856916   \n",
       "3          -0.065466   0.102978    -0.065466  7.630116e+11  ...  0.626078   \n",
       "4          -0.056678   0.101562    -0.056678  2.005676e-02  ...  0.579319   \n",
       "...              ...        ...          ...           ...  ...       ...   \n",
       "1744549     0.044475  -0.109784     0.044475  7.495096e-02  ...  0.370331   \n",
       "1744550     0.047788  -0.119695     0.047788  8.391976e-02  ...  0.324556   \n",
       "1744551     0.048512  -0.124415     0.048512  8.793807e-02  ...  0.316929   \n",
       "1744552     0.031876  -0.170573     0.031876  5.851312e-02  ...  0.363411   \n",
       "1744553     0.022556  -0.146691     0.022556  6.514943e-02  ...  0.347409   \n",
       "\n",
       "         B08_median  B8A_mean  B8A_median  B09_mean  B09_median  B11_mean  \\\n",
       "0         -0.071641  0.714908   -0.071641  0.998661   -0.071641  0.516308   \n",
       "1         -0.055417  0.691173   -0.055417  0.999498   -0.055417  0.471037   \n",
       "2         -0.053401  0.827408   -0.053401  1.000000   -0.053401  0.529658   \n",
       "3         -0.065466  0.557062   -0.065466  0.810897   -0.065466  0.471926   \n",
       "4         -0.056678  0.514844   -0.056678  0.739596   -0.056678  0.473172   \n",
       "...             ...       ...         ...       ...         ...       ...   \n",
       "1744549    0.044475  0.374790    0.044475  0.375373    0.044475  0.480159   \n",
       "1744550    0.047788  0.324090    0.047788  0.292344    0.047788  0.458730   \n",
       "1744551    0.048512  0.322839    0.048512  0.318034    0.048512  0.472908   \n",
       "1744552    0.031876  0.362699    0.031876  0.362617    0.031876  0.484177   \n",
       "1744553    0.022556  0.347432    0.022556  0.342344    0.022556  0.454832   \n",
       "\n",
       "         B11_median  B12_mean  B12_median  \n",
       "0         -0.071641  0.384796   -0.071641  \n",
       "1         -0.055417  0.348069   -0.055417  \n",
       "2         -0.053401  0.401779   -0.053401  \n",
       "3         -0.065466  0.365826   -0.065466  \n",
       "4         -0.056678  0.390669   -0.056678  \n",
       "...             ...       ...         ...  \n",
       "1744549    0.044475  0.415546    0.044475  \n",
       "1744550    0.047788  0.414472    0.047788  \n",
       "1744551    0.048512  0.425739    0.048512  \n",
       "1744552    0.031876  0.435185    0.031876  \n",
       "1744553    0.022556  0.407400    0.022556  \n",
       "\n",
       "[1744554 rows x 45 columns]"
      ]
     },
     "execution_count": 37,
     "metadata": {},
     "output_type": "execute_result"
    }
   ],
   "source": [
    "res"
   ]
  }
 ],
 "metadata": {
  "kernelspec": {
   "display_name": "Python 3 (ipykernel)",
   "language": "python",
   "name": "python3"
  },
  "language_info": {
   "codemirror_mode": {
    "name": "ipython",
    "version": 3
   },
   "file_extension": ".py",
   "mimetype": "text/x-python",
   "name": "python",
   "nbconvert_exporter": "python",
   "pygments_lexer": "ipython3",
   "version": "3.9.5"
  }
 },
 "nbformat": 4,
 "nbformat_minor": 5
}
